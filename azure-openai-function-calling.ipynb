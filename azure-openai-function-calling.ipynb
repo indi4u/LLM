{
 "cells": [
  {
   "cell_type": "code",
   "execution_count": 1,
   "metadata": {},
   "outputs": [],
   "source": [
    "import os\n",
    "import json\n",
    "import openai\n",
    "from openai import AzureOpenAI\n",
    "from datetime import datetime, timedelta\n",
    "from langchain.chat_models import ChatOpenAI\n",
    "from langchain.schema import HumanMessage, AIMessage, ChatMessage\n",
    "from datetime import date\n"
   ]
  },
  {
   "cell_type": "code",
   "execution_count": 4,
   "metadata": {},
   "outputs": [],
   "source": [
    "    \n",
    "client = AzureOpenAI(\n",
    "    api_key =os.getenv(\"AZURE_OPENAI_API_KEY\"),  \n",
    "    api_version=\"2024-02-01\",\n",
    "    azure_endpoint = os.getenv(\"AZURE_OPENAI_ENDPOINT\")\n",
    "    )\n",
    "    \n",
    "deployment_name='gpt35turbo16k'"
   ]
  },
  {
   "cell_type": "code",
   "execution_count": 5,
   "metadata": {},
   "outputs": [],
   "source": [
    "today = date.today().strftime(\"%d-%m-%Y\")"
   ]
  },
  {
   "cell_type": "code",
   "execution_count": 11,
   "metadata": {},
   "outputs": [],
   "source": [
    "tools = [\n",
    "        {\n",
    "            \"type\": \"function\",\n",
    "            \"function\": {\n",
    "                 \"name\": \"query_db\",\n",
    "                 \"description\": \"Query a database for information on sales, volumes etc\",\n",
    "                 \"parameters\": {\n",
    "                    \"type\": \"object\",\n",
    "                    \"properties\": {\n",
    "                        \"intent\" : {\n",
    "                            \"type\": \"string\",\n",
    "                            \"description\": \"The intent of the query being one of get_sales, get_volume, get_products  \"\n",
    "                        },\n",
    "                        \"country\": {\n",
    "                            \"type\": \"string\",\n",
    "                            \"description\": \"List of countries mentioned as python list\"\n",
    "                        },\n",
    "                        \"start_date\": {\n",
    "                            \"type\": \"string\",\n",
    "                            \"description\": \"The start date for which sales is needed in dd-mm-yyyy format.For example, 01-01-2023\",\n",
    "                        },\n",
    "                        \"end_date\": {\n",
    "                            \"type\": \"string\",\n",
    "                            \"description\": \"The end date for which sales is needed in dd-mm-yyyy format. For example, 31-12-2023\",\n",
    "                        },\n",
    "                         \"products\": {\n",
    "                            \"type\": \"string\",\n",
    "                            \"description\": \"List of products as python list\",\n",
    "                        },\n",
    "                    },\n",
    "                \"required\": [\"country\"],\n",
    "             }\n",
    "            }\n",
    "\n",
    "        },\n",
    "             {\n",
    "            \"type\": \"function\",\n",
    "            \"function\": {\n",
    "                 \"name\": \"summarise_doc\",\n",
    "                 \"description\": \"Summarise a page or a document on the internet, given the link\",\n",
    "                 \"parameters\": {\n",
    "                    \"type\": \"object\",\n",
    "                    \"properties\": {\n",
    "                        \"url\" : {\n",
    "                            \"type\": \"string\",\n",
    "                            \"description\": \"The link of the file or page to be summarized\"\n",
    "                        },\n",
    "                    },\n",
    "                \"required\": [\"url\"],\n",
    "             }\n",
    "            }\n",
    "\n",
    "        }\n",
    "    ]"
   ]
  },
  {
   "cell_type": "code",
   "execution_count": 19,
   "metadata": {},
   "outputs": [
    {
     "name": "stdout",
     "output_type": "stream",
     "text": [
      "ChatCompletionMessage(content=None, role='assistant', function_call=None, tool_calls=[ChatCompletionMessageToolCall(id='call_Q7TcQumRgpNBbE3z53tEedyG', function=Function(arguments='{\\n  \"intent\": \"get_sales\",\\n  \"country\": [\"Germany\", \"Italy\"],\\n  \"start_date\": \"01-01-2023\",\\n  \"end_date\": \"31-12-2023\",\\n  \"products\": [\"fries\"]\\n}', name='query_db'), type='function')])\n",
      "Function arguments: {'intent': 'get_sales', 'country': ['Germany', 'Italy'], 'start_date': '01-01-2023', 'end_date': '31-12-2023', 'products': ['fries']}\n"
     ]
    }
   ],
   "source": [
    "user_prompt = f\"What is the sales of fries in Germany & IT for last year?\"\n",
    "completion = client.chat.completions.create(\n",
    "    model=deployment_name,\n",
    "    messages= [\n",
    "      {\n",
    "      \"role\": \"system\",\n",
    "      \"content\": \"1. Consider current date to be \" + today +\" when extracting start_date and end_date.\"\n",
    "      }\n",
    "      ,\n",
    "    {\n",
    "      \"role\": \"user\",\n",
    "      \"content\": user_prompt\n",
    "    }],\n",
    "    max_tokens=100,\n",
    "    temperature=0.0,\n",
    "    frequency_penalty=0,\n",
    "    presence_penalty=0,\n",
    "    stop=None,\n",
    "    stream=False,\n",
    "    tools=tools,\n",
    "    tool_choice=\"auto\",  # specify the function call\n",
    ")\n",
    "\n",
    "output = completion.choices[0].message\n",
    "print(output)\n",
    "\n",
    "if output.tool_calls:\n",
    "        for tool_call in output.tool_calls:\n",
    "                function_args = json.loads(tool_call.function.arguments)\n",
    "                print(f\"Function arguments: {function_args}\")  \n",
    "                response = execute_query(\n",
    "                    function_args\n",
    "                )\n",
    "            \n",
    "else:\n",
    "        print(\"No tool calls were made by the model.\")  \n"
   ]
  },
  {
   "cell_type": "code",
   "execution_count": 24,
   "metadata": {},
   "outputs": [
    {
     "name": "stdout",
     "output_type": "stream",
     "text": [
      "ChatCompletionMessage(content='Sure, please provide me with the link to the page you would like me to summarize.', role='assistant', function_call=None, tool_calls=None)\n",
      "No tool calls were made by the model.\n"
     ]
    }
   ],
   "source": [
    "user_prompt = \"Can you summarise this page?\"\n",
    "completion = client.chat.completions.create(\n",
    "    model=deployment_name,\n",
    "    messages= [\n",
    "      {\n",
    "      \"role\": \"system\",\n",
    "      \"content\": \"1. Consider current date to be \" + today +\" when extracting start_date and end_date.\"\n",
    "      }\n",
    "      ,\n",
    "    {\n",
    "      \"role\": \"user\",\n",
    "      \"content\": user_prompt\n",
    "    }],\n",
    "    max_tokens=100,\n",
    "    temperature=0.0,\n",
    "    frequency_penalty=0,\n",
    "    presence_penalty=0,\n",
    "    stop=None,\n",
    "    stream=False,\n",
    "    tools=tools,\n",
    "    tool_choice=\"auto\",\n",
    ")\n",
    "\n",
    "output = completion.choices[0].message\n",
    "print(output)\n",
    "\n",
    "if output.tool_calls:\n",
    "        for tool_call in output.tool_calls:\n",
    "                function_args = json.loads(tool_call.function.arguments)\n",
    "                print(f\"Function arguments: {function_args}\")  \n",
    "                response = execute_query(\n",
    "                    function_args\n",
    "                )\n",
    "            \n",
    "else:\n",
    "        print(\"No tool calls were made by the model.\")  \n"
   ]
  },
  {
   "cell_type": "code",
   "execution_count": 21,
   "metadata": {},
   "outputs": [],
   "source": [
    "link = \"https://sjce.ac.in/wp-content/uploads/2021/10/jnu-Supply-Chain-Management.pdf\""
   ]
  },
  {
   "cell_type": "code",
   "execution_count": 23,
   "metadata": {},
   "outputs": [
    {
     "name": "stdout",
     "output_type": "stream",
     "text": [
      "ChatCompletionMessage(content=None, role='assistant', function_call=None, tool_calls=[ChatCompletionMessageToolCall(id='call_rXIVUvQwmkMXU3B3nc1jHavI', function=Function(arguments='{\\n\"url\": \"https://sjce.ac.in/wp-content/uploads/2021/10/jnu-Supply-Chain-Management.pdf\"\\n}', name='summarise_doc'), type='function')])\n",
      "Function arguments: {'url': 'https://sjce.ac.in/wp-content/uploads/2021/10/jnu-Supply-Chain-Management.pdf'}\n"
     ]
    }
   ],
   "source": [
    "user_prompt = f\"Can you summarise this page {link}?\"\n",
    "\n",
    "completion = client.chat.completions.create(\n",
    "    model=deployment_name,\n",
    "    messages= [\n",
    "      {\n",
    "      \"role\": \"system\",\n",
    "      \"content\": \"Consider current date to be \" + today +\" when extracting start_date and end_date.\"\n",
    "      }\n",
    "      ,\n",
    "    {\n",
    "      \"role\": \"user\",\n",
    "      \"content\": user_prompt\n",
    "    }],\n",
    "    max_tokens=100,\n",
    "    temperature=0.0,\n",
    "    frequency_penalty=0,\n",
    "    presence_penalty=0,\n",
    "    stop=None,\n",
    "    stream=False,\n",
    "    tools=tools,\n",
    "    tool_choice=\"auto\",  \n",
    ")\n",
    "\n",
    "output = completion.choices[0].message\n",
    "print(output)\n",
    "\n",
    "if output.tool_calls:\n",
    "        for tool_call in output.tool_calls:\n",
    "                function_args = json.loads(tool_call.function.arguments)\n",
    "                print(f\"Function arguments: {function_args}\")  \n",
    "                response = execute_query(\n",
    "                    function_args\n",
    "                )\n",
    "            \n",
    "else:\n",
    "        print(\"No tool calls were made by the model.\")  \n"
   ]
  },
  {
   "cell_type": "code",
   "execution_count": null,
   "metadata": {},
   "outputs": [],
   "source": [
    "## Definition TBD\n",
    "def execute_query(d):\n",
    "    ## this could be a call to another LLM to query or API\n",
    "    \n",
    "    return 0"
   ]
  },
  {
   "cell_type": "code",
   "execution_count": null,
   "metadata": {},
   "outputs": [],
   "source": [
    "## Definition TBD\n",
    "def summarise_doc():\n",
    "    return \"\""
   ]
  },
  {
   "cell_type": "code",
   "execution_count": null,
   "metadata": {},
   "outputs": [],
   "source": []
  },
  {
   "cell_type": "code",
   "execution_count": null,
   "metadata": {},
   "outputs": [],
   "source": []
  },
  {
   "cell_type": "code",
   "execution_count": null,
   "metadata": {},
   "outputs": [],
   "source": []
  },
  {
   "cell_type": "code",
   "execution_count": null,
   "metadata": {},
   "outputs": [],
   "source": []
  },
  {
   "cell_type": "code",
   "execution_count": null,
   "metadata": {},
   "outputs": [],
   "source": []
  },
  {
   "cell_type": "code",
   "execution_count": null,
   "metadata": {},
   "outputs": [],
   "source": []
  },
  {
   "cell_type": "code",
   "execution_count": null,
   "metadata": {},
   "outputs": [],
   "source": []
  },
  {
   "cell_type": "code",
   "execution_count": null,
   "metadata": {},
   "outputs": [],
   "source": []
  },
  {
   "cell_type": "code",
   "execution_count": null,
   "metadata": {},
   "outputs": [],
   "source": []
  },
  {
   "cell_type": "code",
   "execution_count": null,
   "metadata": {},
   "outputs": [],
   "source": []
  },
  {
   "cell_type": "code",
   "execution_count": null,
   "metadata": {},
   "outputs": [],
   "source": []
  },
  {
   "cell_type": "code",
   "execution_count": null,
   "metadata": {},
   "outputs": [],
   "source": []
  },
  {
   "cell_type": "code",
   "execution_count": 9,
   "metadata": {},
   "outputs": [],
   "source": []
  },
  {
   "cell_type": "code",
   "execution_count": null,
   "metadata": {},
   "outputs": [],
   "source": []
  },
  {
   "cell_type": "code",
   "execution_count": null,
   "metadata": {},
   "outputs": [],
   "source": []
  }
 ],
 "metadata": {
  "kernelspec": {
   "display_name": "Python [conda env:llms1] *",
   "language": "python",
   "name": "conda-env-llms1-py"
  },
  "language_info": {
   "codemirror_mode": {
    "name": "ipython",
    "version": 3
   },
   "file_extension": ".py",
   "mimetype": "text/x-python",
   "name": "python",
   "nbconvert_exporter": "python",
   "pygments_lexer": "ipython3",
   "version": "3.9.0"
  }
 },
 "nbformat": 4,
 "nbformat_minor": 2
}
