{
 "cells": [
  {
   "cell_type": "code",
   "execution_count": 3,
   "id": "f56290bc",
   "metadata": {},
   "outputs": [],
   "source": [
    "from sentence_transformers import SentenceTransformer\n",
    "from pymilvus import connections,utility,Collection,CollectionSchema, FieldSchema,DataType\n",
    "from langchain.vectorstores import Milvus\n",
    "from langchain.embeddings import HuggingFaceEmbeddings, SentenceTransformerEmbeddings"
   ]
  },
  {
   "cell_type": "code",
   "execution_count": 6,
   "id": "a5627470",
   "metadata": {
    "collapsed": true
   },
   "outputs": [
    {
     "data": {
      "application/vnd.jupyter.widget-view+json": {
       "model_id": "284b8a674bb04e2e9879f6a9cf82e2fc",
       "version_major": 2,
       "version_minor": 0
      },
      "text/plain": [
       "Downloading (…)001fa/.gitattributes:   0%|          | 0.00/690 [00:00<?, ?B/s]"
      ]
     },
     "metadata": {},
     "output_type": "display_data"
    },
    {
     "data": {
      "application/vnd.jupyter.widget-view+json": {
       "model_id": "6464907e264944bf9b52e0a21cbb3899",
       "version_major": 2,
       "version_minor": 0
      },
      "text/plain": [
       "Downloading (…)_Pooling/config.json:   0%|          | 0.00/190 [00:00<?, ?B/s]"
      ]
     },
     "metadata": {},
     "output_type": "display_data"
    },
    {
     "data": {
      "application/vnd.jupyter.widget-view+json": {
       "model_id": "fbcdbf67c3524b5bb65f3bad4a018c28",
       "version_major": 2,
       "version_minor": 0
      },
      "text/plain": [
       "Downloading (…)3bbb8001fa/README.md:   0%|          | 0.00/3.69k [00:00<?, ?B/s]"
      ]
     },
     "metadata": {},
     "output_type": "display_data"
    },
    {
     "data": {
      "application/vnd.jupyter.widget-view+json": {
       "model_id": "08ca5ec8b17f4224b694c917d3af1d0f",
       "version_major": 2,
       "version_minor": 0
      },
      "text/plain": [
       "Downloading (…)bb8001fa/config.json:   0%|          | 0.00/629 [00:00<?, ?B/s]"
      ]
     },
     "metadata": {},
     "output_type": "display_data"
    },
    {
     "data": {
      "application/vnd.jupyter.widget-view+json": {
       "model_id": "ac90698b65834931a367c0d8b98c630c",
       "version_major": 2,
       "version_minor": 0
      },
      "text/plain": [
       "Downloading (…)ce_transformers.json:   0%|          | 0.00/122 [00:00<?, ?B/s]"
      ]
     },
     "metadata": {},
     "output_type": "display_data"
    },
    {
     "data": {
      "application/vnd.jupyter.widget-view+json": {
       "model_id": "f001babca1e84f76833ad659b608c81a",
       "version_major": 2,
       "version_minor": 0
      },
      "text/plain": [
       "Downloading pytorch_model.bin:   0%|          | 0.00/90.9M [00:00<?, ?B/s]"
      ]
     },
     "metadata": {},
     "output_type": "display_data"
    },
    {
     "data": {
      "application/vnd.jupyter.widget-view+json": {
       "model_id": "e39f2380988648f386bb797d51b1fd92",
       "version_major": 2,
       "version_minor": 0
      },
      "text/plain": [
       "Downloading (…)nce_bert_config.json:   0%|          | 0.00/53.0 [00:00<?, ?B/s]"
      ]
     },
     "metadata": {},
     "output_type": "display_data"
    },
    {
     "data": {
      "application/vnd.jupyter.widget-view+json": {
       "model_id": "40c2e35f56f047d9a2c5c56f3bb22f72",
       "version_major": 2,
       "version_minor": 0
      },
      "text/plain": [
       "Downloading (…)cial_tokens_map.json:   0%|          | 0.00/112 [00:00<?, ?B/s]"
      ]
     },
     "metadata": {},
     "output_type": "display_data"
    },
    {
     "data": {
      "application/vnd.jupyter.widget-view+json": {
       "model_id": "d3d8bef9f3394e428a002576acfc1bf3",
       "version_major": 2,
       "version_minor": 0
      },
      "text/plain": [
       "Downloading (…)001fa/tokenizer.json:   0%|          | 0.00/466k [00:00<?, ?B/s]"
      ]
     },
     "metadata": {},
     "output_type": "display_data"
    },
    {
     "data": {
      "application/vnd.jupyter.widget-view+json": {
       "model_id": "3fedcb09a56d4a6ea690f17ef65dd798",
       "version_major": 2,
       "version_minor": 0
      },
      "text/plain": [
       "Downloading (…)okenizer_config.json:   0%|          | 0.00/314 [00:00<?, ?B/s]"
      ]
     },
     "metadata": {},
     "output_type": "display_data"
    },
    {
     "data": {
      "application/vnd.jupyter.widget-view+json": {
       "model_id": "68103ccf84024b5591946c1132506a28",
       "version_major": 2,
       "version_minor": 0
      },
      "text/plain": [
       "Downloading (…)3bbb8001fa/vocab.txt:   0%|          | 0.00/232k [00:00<?, ?B/s]"
      ]
     },
     "metadata": {},
     "output_type": "display_data"
    },
    {
     "data": {
      "application/vnd.jupyter.widget-view+json": {
       "model_id": "e371c2c5388247d8b005e36b381ec8c2",
       "version_major": 2,
       "version_minor": 0
      },
      "text/plain": [
       "Downloading (…)b8001fa/modules.json:   0%|          | 0.00/229 [00:00<?, ?B/s]"
      ]
     },
     "metadata": {},
     "output_type": "display_data"
    }
   ],
   "source": [
    "connections.connect(host=\"localhost\",port=\"19530\")\n",
    "model = SentenceTransformer(\"paraphrase-MiniLM-L6-v2\")"
   ]
  },
  {
   "cell_type": "code",
   "execution_count": 56,
   "id": "aade5ee4",
   "metadata": {},
   "outputs": [],
   "source": [
    "## Define the fields that would go into the schema \n",
    "item_id = FieldSchema(\n",
    "  name=\"id\",\n",
    "  dtype=DataType.INT64,\n",
    "  is_primary=True,\n",
    "  auto_id=True\n",
    ")\n",
    "\n",
    "## you need to provide max_length\n",
    "text = FieldSchema(\n",
    "  name=\"text\",\n",
    "  dtype=DataType.VARCHAR,\n",
    "  max_length= 50000\n",
    "\n",
    ")\n",
    "\n",
    "## one float_vector field mandatory ?\n",
    "embeddings = FieldSchema(\n",
    "  name=\"embeddings\",\n",
    "  dtype=DataType.FLOAT_VECTOR,\n",
    "  dim=384\n",
    ")\n",
    "## define collection schema \n",
    "schema = CollectionSchema(\n",
    "  fields=[item_id, text, embeddings],\n",
    "  description=\"Search clinical trial docs\",\n",
    "  enable_dynamic_field=True\n",
    ")\n",
    "\n",
    "## define the collection\n",
    "collection = Collection(\n",
    "    name=\"clinical_trials\",\n",
    "    schema=schema,\n",
    "    using='default'\n",
    "    )\n"
   ]
  },
  {
   "cell_type": "code",
   "execution_count": 58,
   "id": "912abfa3",
   "metadata": {},
   "outputs": [],
   "source": [
    "## text from here - fda.gov/drugs/investigational-new-drug-ind-application/ind-applications-clinical-investigations-clinical-protocols\n",
    "texts = [\"Early developmental protocols should specify in detail all \\\n",
    "         the elements of the study that are critical to safety. Such elements \\\n",
    "         may include all clinical safety assessments, toxicity monitoring,\\\n",
    "         description of toxicity-based stopping rules, dose adjustment rules\\\n",
    "         for individual patients and the overall trial, and adverse event recording and reporting\",\n",
    "         \"Study enrollment criteria should be written with consideration of the following: (1)\\\n",
    "         background risks associated with the disease or condition studied, (2) previous\\\n",
    "         knowledge of toxicities of the investigational drug observed in animal studies\\\n",
    "         or with human experience, (3) warnings and precautions described in the product’s label\\\n",
    "         (when approved products are investigated for other than approved uses\",\n",
    "         \"It is preferable that toxicity is assessed and graded according to a standardized grading\\\n",
    "         scale relevant to the studied population and that adverse events are collected, \\\n",
    "         recorded, and reported in a consistent manner.\"]\n",
    "embeds = [list(embed) for embed in model.encode(texts)]"
   ]
  },
  {
   "cell_type": "code",
   "execution_count": 59,
   "id": "f58d65d9",
   "metadata": {},
   "outputs": [
    {
     "data": {
      "text/plain": [
       "3"
      ]
     },
     "execution_count": 59,
     "metadata": {},
     "output_type": "execute_result"
    }
   ],
   "source": [
    "len(embeds) ## no of embeddings "
   ]
  },
  {
   "cell_type": "code",
   "execution_count": 60,
   "id": "193554e5",
   "metadata": {},
   "outputs": [
    {
     "data": {
      "text/plain": [
       "384"
      ]
     },
     "execution_count": 60,
     "metadata": {},
     "output_type": "execute_result"
    }
   ],
   "source": [
    "len(embeds[0]) ## dim of each embedding"
   ]
  },
  {
   "cell_type": "code",
   "execution_count": 61,
   "id": "1605d091",
   "metadata": {},
   "outputs": [
    {
     "data": {
      "text/plain": [
       "(insert count: 3, delete count: 0, upsert count: 0, timestamp: {self._timestamp}, success count: {self.succ_count}, err count: {self.err_count})"
      ]
     },
     "execution_count": 61,
     "metadata": {},
     "output_type": "execute_result"
    }
   ],
   "source": [
    "collection.insert([texts,embeds])"
   ]
  },
  {
   "cell_type": "code",
   "execution_count": 62,
   "id": "1b5b90f5",
   "metadata": {},
   "outputs": [
    {
     "data": {
      "text/plain": [
       "Status(code=0, message=)"
      ]
     },
     "execution_count": 62,
     "metadata": {},
     "output_type": "execute_result"
    }
   ],
   "source": [
    "collection.create_index(field_name=\"embeddings\",\\\n",
    "                        index_params={\"metric_type\":\"IP\",\"index_type\":\"IVF_FLAT\",\"params\":{\"nlist\":16384}})\n",
    "\n"
   ]
  },
  {
   "cell_type": "code",
   "execution_count": 69,
   "id": "98d81238",
   "metadata": {},
   "outputs": [],
   "source": [
    "query = \"adjusting the doses\"\n",
    "query_encode = [list(i) for i in model.encode([query])]"
   ]
  },
  {
   "cell_type": "code",
   "execution_count": 70,
   "id": "3cc5cff3",
   "metadata": {},
   "outputs": [],
   "source": [
    "collection = Collection('clinical_trials')\n",
    "collection.load()\n",
    "documents = collection.search(data=query_encode, anns_field=\"embeddings\", param={\"metric\":\"IP\",\"offset\":0},\n",
    "                  output_fields=[\"text\"], limit=1)\n"
   ]
  },
  {
   "cell_type": "code",
   "execution_count": 71,
   "id": "ec278f22",
   "metadata": {},
   "outputs": [
    {
     "name": "stdout",
     "output_type": "stream",
     "text": [
      "Study enrollment criteria should be written with consideration of the following: (1)         background risks associated with the disease or condition studied, (2) previous         knowledge of toxicities of the investigational drug observed in animal studies         or with human experience, (3) warnings and precautions described in the product’s label         (when approved products are investigated for other than approved uses 53.0494384765625 443027412068080120\n"
     ]
    }
   ],
   "source": [
    "for values in documents:\n",
    "    for doc in values:\n",
    "        print(doc.entity._row_data[\"text\"],doc.distance,doc.id)\n",
    "collection.release()"
   ]
  },
  {
   "cell_type": "code",
   "execution_count": 54,
   "id": "10d41294",
   "metadata": {},
   "outputs": [],
   "source": [
    "## drop the collection, everything is lost.\n",
    "utility.drop_collection(\"clinical_trials\")"
   ]
  },
  {
   "cell_type": "markdown",
   "id": "6f1e7972",
   "metadata": {},
   "source": [
    "## Using Langchain"
   ]
  },
  {
   "cell_type": "code",
   "execution_count": 84,
   "id": "49af70cc",
   "metadata": {},
   "outputs": [],
   "source": [
    "from langchain.document_loaders import PyPDFLoader\n",
    "from langchain.text_splitter import CharacterTextSplitter\n",
    "\n",
    "loader = PyPDFLoader(\"clinical_trial_conduct.pdf\")\n",
    "pages = loader.load_and_split()"
   ]
  },
  {
   "cell_type": "code",
   "execution_count": 77,
   "id": "7bcc57e0",
   "metadata": {},
   "outputs": [],
   "source": [
    "#pip install pypdf"
   ]
  },
  {
   "cell_type": "code",
   "execution_count": 85,
   "id": "ad40642b",
   "metadata": {},
   "outputs": [
    {
     "data": {
      "text/plain": [
       "130"
      ]
     },
     "execution_count": 85,
     "metadata": {},
     "output_type": "execute_result"
    }
   ],
   "source": [
    "len(pages)"
   ]
  },
  {
   "cell_type": "markdown",
   "id": "a42eb93e",
   "metadata": {},
   "source": [
    "text_splitter = CharacterTextSplitter(chunk_size=1000, chunk_overlap=0)\n",
    "docs = text_splitter.split_documents(pages)"
   ]
  },
  {
   "cell_type": "code",
   "execution_count": 100,
   "id": "54952ca4",
   "metadata": {},
   "outputs": [
    {
     "data": {
      "application/vnd.jupyter.widget-view+json": {
       "model_id": "6c5da78648b64266a1349ae6e049f3fe",
       "version_major": 2,
       "version_minor": 0
      },
      "text/plain": [
       "Downloading pytorch_model.bin:   0%|          | 0.00/90.9M [00:00<?, ?B/s]"
      ]
     },
     "metadata": {},
     "output_type": "display_data"
    },
    {
     "data": {
      "application/vnd.jupyter.widget-view+json": {
       "model_id": "825b5017d79e47628b9176ed24ba4f6d",
       "version_major": 2,
       "version_minor": 0
      },
      "text/plain": [
       "Downloading (…)nce_bert_config.json:   0%|          | 0.00/53.0 [00:00<?, ?B/s]"
      ]
     },
     "metadata": {},
     "output_type": "display_data"
    },
    {
     "data": {
      "application/vnd.jupyter.widget-view+json": {
       "model_id": "0be9b6fa9df74a4cad1b98b778e2712a",
       "version_major": 2,
       "version_minor": 0
      },
      "text/plain": [
       "Downloading (…)cial_tokens_map.json:   0%|          | 0.00/112 [00:00<?, ?B/s]"
      ]
     },
     "metadata": {},
     "output_type": "display_data"
    },
    {
     "data": {
      "application/vnd.jupyter.widget-view+json": {
       "model_id": "b1a1e3a65d854c6f97a8b93b01ee20fa",
       "version_major": 2,
       "version_minor": 0
      },
      "text/plain": [
       "Downloading (…)e9125/tokenizer.json:   0%|          | 0.00/466k [00:00<?, ?B/s]"
      ]
     },
     "metadata": {},
     "output_type": "display_data"
    },
    {
     "data": {
      "application/vnd.jupyter.widget-view+json": {
       "model_id": "212d8b80d0c741769feb7e6a351e637a",
       "version_major": 2,
       "version_minor": 0
      },
      "text/plain": [
       "Downloading (…)okenizer_config.json:   0%|          | 0.00/350 [00:00<?, ?B/s]"
      ]
     },
     "metadata": {},
     "output_type": "display_data"
    },
    {
     "data": {
      "application/vnd.jupyter.widget-view+json": {
       "model_id": "79aa2317ae2e42ebbbbe984538804eb2",
       "version_major": 2,
       "version_minor": 0
      },
      "text/plain": [
       "Downloading (…)9125/train_script.py:   0%|          | 0.00/13.2k [00:00<?, ?B/s]"
      ]
     },
     "metadata": {},
     "output_type": "display_data"
    },
    {
     "data": {
      "application/vnd.jupyter.widget-view+json": {
       "model_id": "6e442da969e748ab8e2f5ddbb40c90b4",
       "version_major": 2,
       "version_minor": 0
      },
      "text/plain": [
       "Downloading (…)7e55de9125/vocab.txt:   0%|          | 0.00/232k [00:00<?, ?B/s]"
      ]
     },
     "metadata": {},
     "output_type": "display_data"
    },
    {
     "data": {
      "application/vnd.jupyter.widget-view+json": {
       "model_id": "76d452771550457cad00ec3c44b5b305",
       "version_major": 2,
       "version_minor": 0
      },
      "text/plain": [
       "Downloading (…)5de9125/modules.json:   0%|          | 0.00/349 [00:00<?, ?B/s]"
      ]
     },
     "metadata": {},
     "output_type": "display_data"
    }
   ],
   "source": [
    "embeddings = HuggingFaceEmbeddings(model_name=\"all-MiniLM-L6-v2\")"
   ]
  },
  {
   "cell_type": "code",
   "execution_count": 101,
   "id": "fff7fadb",
   "metadata": {},
   "outputs": [],
   "source": [
    "vector_db = Milvus.from_documents(\n",
    "    docs,\n",
    "    embeddings,\n",
    "    connection_args={\"host\": \"127.0.0.1\", \"port\": \"19530\"},\n",
    ")"
   ]
  },
  {
   "cell_type": "code",
   "execution_count": 137,
   "id": "4ffa2c6d",
   "metadata": {},
   "outputs": [],
   "source": [
    "query = \"what is the investigator’s responsibility for the medical care of research subjects\"\n",
    "docs = vector_db.similarity_search(query)"
   ]
  },
  {
   "cell_type": "code",
   "execution_count": 138,
   "id": "ccc67ee5",
   "metadata": {},
   "outputs": [
    {
     "data": {
      "text/plain": [
       "4"
      ]
     },
     "execution_count": 138,
     "metadata": {},
     "output_type": "execute_result"
    }
   ],
   "source": [
    "len(docs)"
   ]
  },
  {
   "cell_type": "code",
   "execution_count": null,
   "id": "eec18d51",
   "metadata": {},
   "outputs": [],
   "source": [
    "## But wait, what about the Milvus collection schema and collection itself ? "
   ]
  },
  {
   "cell_type": "code",
   "execution_count": 140,
   "id": "53f16b62",
   "metadata": {},
   "outputs": [
    {
     "name": "stdout",
     "output_type": "stream",
     "text": [
      "Default collection name - LangChainCollection\n",
      "Default search params - {'metric_type': 'L2', 'params': {'ef': 10}}\n",
      "Default index params - {'metric_type': 'L2', 'index_type': 'HNSW', 'params': {'M': 8, 'efConstruction': 64}}\n"
     ]
    }
   ],
   "source": [
    "print(f\"Default collection name - {vector_db.collection_name}\")\n",
    "print(f\"Default search params - {vector_db.search_params}\")\n",
    "print(f\"Default index params - {vector_db.index_params}\") #HNSW"
   ]
  },
  {
   "cell_type": "code",
   "execution_count": 123,
   "id": "40ffd103",
   "metadata": {},
   "outputs": [],
   "source": [
    "vector_db_custom = Milvus.from_documents(\n",
    "    docs,\n",
    "    embeddings,\n",
    "    connection_args={\"host\": \"127.0.0.1\", \"port\": \"19530\"},\n",
    "    collection_name = \"clinical_trial_langchain\", ## custom collection name \n",
    "    search_params = {\"metric\":\"IP\",\"offset\":0}, ## search params\n",
    ")"
   ]
  },
  {
   "cell_type": "code",
   "execution_count": 125,
   "id": "30da2de6",
   "metadata": {},
   "outputs": [
    {
     "data": {
      "text/plain": [
       "'clinical_trial_langchain'"
      ]
     },
     "execution_count": 125,
     "metadata": {},
     "output_type": "execute_result"
    }
   ],
   "source": [
    "vector_db_custom.collection_name"
   ]
  },
  {
   "cell_type": "code",
   "execution_count": 126,
   "id": "43724c73",
   "metadata": {},
   "outputs": [],
   "source": [
    "query = \"what is the investigator’s responsibility for the medical care of research subjects\"\n",
    "docs_new_metric = vector_db.similarity_search(query)"
   ]
  },
  {
   "cell_type": "code",
   "execution_count": 132,
   "id": "3d45188d",
   "metadata": {},
   "outputs": [
    {
     "data": {
      "text/plain": [
       "Document(page_content='Investigator Selection (ICH E6, Section 5.6)\\nAllocation of Duties and Functions (ICH E6, Section 5.7)\\nFor regulatory authorities , refer to\\nConducting the Inspection (A Guide to Clinical Investigator Inspec-\\ntions, PAHO, Annex 4, Section 2)\\nSee also:Discussion of the WHO Principles of GCP\\nGCP Principle 9: Investigator Qualiﬁ  cations\\nDeﬁ nitions for:\\nInvestigator (ICH E6, 1.34)Subinvestigator (ICH E6, 1.56)Well-being (of the trial subjects) (ICH E6, 1.62)\\nPRINCIPLE 10: STAFF QUALIFICATIONS | 91', metadata={'source': 'clinical_trial_conduct.pdf', 'page': 95})"
      ]
     },
     "execution_count": 132,
     "metadata": {},
     "output_type": "execute_result"
    }
   ],
   "source": [
    "docs_new_metric[2]"
   ]
  },
  {
   "cell_type": "code",
   "execution_count": null,
   "id": "7f5fd336",
   "metadata": {},
   "outputs": [],
   "source": [
    "## Milvis collection details :"
   ]
  },
  {
   "cell_type": "code",
   "execution_count": 136,
   "id": "18633656",
   "metadata": {},
   "outputs": [
    {
     "data": {
      "text/plain": [
       "<Collection>:\n",
       "-------------\n",
       "<name>: LangChainCollection\n",
       "<partitions>: [{\"name\": \"_default\", \"collection_name\": \"LangChainCollection\", \"description\": \"\"}]\n",
       "<description>: \n",
       "<schema>: {\n",
       "  auto_id: True\n",
       "  description: \n",
       "  fields: [{\n",
       "    name: source\n",
       "    description: \n",
       "    type: 21\n",
       "    params: {'max_length': 65535}\n",
       "  }, {\n",
       "    name: page\n",
       "    description: \n",
       "    type: 5\n",
       "  }, {\n",
       "    name: text\n",
       "    description: \n",
       "    type: 21\n",
       "    params: {'max_length': 65535}\n",
       "  }, {\n",
       "    name: pk\n",
       "    description: \n",
       "    type: 5\n",
       "    is_primary: True\n",
       "    auto_id: True\n",
       "  }, {\n",
       "    name: vector\n",
       "    description: \n",
       "    type: 101\n",
       "    params: {'dim': 384}\n",
       "  }]\n",
       "}"
      ]
     },
     "execution_count": 136,
     "metadata": {},
     "output_type": "execute_result"
    }
   ],
   "source": [
    "vector_db.col"
   ]
  },
  {
   "cell_type": "code",
   "execution_count": 135,
   "id": "5c33f4e3",
   "metadata": {},
   "outputs": [
    {
     "data": {
      "text/plain": [
       "<Collection>:\n",
       "-------------\n",
       "<name>: clinical_trial_langchain\n",
       "<partitions>: [{\"name\": \"_default\", \"collection_name\": \"clinical_trial_langchain\", \"description\": \"\"}]\n",
       "<description>: \n",
       "<schema>: {\n",
       "  auto_id: True\n",
       "  description: \n",
       "  fields: [{\n",
       "    name: source\n",
       "    description: \n",
       "    type: 21\n",
       "    params: {'max_length': 65535}\n",
       "  }, {\n",
       "    name: page\n",
       "    description: \n",
       "    type: 5\n",
       "  }, {\n",
       "    name: text\n",
       "    description: \n",
       "    type: 21\n",
       "    params: {'max_length': 65535}\n",
       "  }, {\n",
       "    name: pk\n",
       "    description: \n",
       "    type: 5\n",
       "    is_primary: True\n",
       "    auto_id: True\n",
       "  }, {\n",
       "    name: vector\n",
       "    description: \n",
       "    type: 101\n",
       "    params: {'dim': 384}\n",
       "  }]\n",
       "}"
      ]
     },
     "execution_count": 135,
     "metadata": {},
     "output_type": "execute_result"
    }
   ],
   "source": [
    "vector_db_custom.col"
   ]
  },
  {
   "cell_type": "code",
   "execution_count": null,
   "id": "8388875b",
   "metadata": {},
   "outputs": [],
   "source": []
  },
  {
   "cell_type": "code",
   "execution_count": null,
   "id": "6e899057",
   "metadata": {},
   "outputs": [],
   "source": []
  }
 ],
 "metadata": {
  "kernelspec": {
   "display_name": "Python [conda env:llm] *",
   "language": "python",
   "name": "conda-env-llm-py"
  },
  "language_info": {
   "codemirror_mode": {
    "name": "ipython",
    "version": 3
   },
   "file_extension": ".py",
   "mimetype": "text/x-python",
   "name": "python",
   "nbconvert_exporter": "python",
   "pygments_lexer": "ipython3",
   "version": "3.10.11"
  }
 },
 "nbformat": 4,
 "nbformat_minor": 5
}
