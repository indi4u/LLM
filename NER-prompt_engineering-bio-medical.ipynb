{
 "cells": [
  {
   "cell_type": "code",
   "execution_count": 6,
   "id": "2299fd0c",
   "metadata": {},
   "outputs": [],
   "source": [
    "import os\n",
    "import deepspeed\n",
    "from transformers import AutoModelForCausalLM, AutoTokenizer, pipeline\n",
    "import torch\n"
   ]
  },
  {
   "cell_type": "markdown",
   "id": "a6bf7d81",
   "metadata": {},
   "source": [
    "!pip install torch==1.11.0 --extra-index-url https://download.pytorch.org/whl/cu113\n",
    "!pip install transformers==4.20.1\n",
    "!pip install deepspeed==0.6.5\n"
   ]
  },
  {
   "cell_type": "code",
   "execution_count": 8,
   "id": "b6a97449",
   "metadata": {
    "collapsed": true
   },
   "outputs": [
    {
     "name": "stdout",
     "output_type": "stream",
     "text": [
      "Looking in indexes: https://pypi.org/simple, https://pip.repos.neuron.amazonaws.com\r\n",
      "Requirement already satisfied: accelerate in /home/ec2-user/anaconda3/envs/python3/lib/python3.10/site-packages (0.17.0)\r\n",
      "Requirement already satisfied: psutil in /home/ec2-user/anaconda3/envs/python3/lib/python3.10/site-packages (from accelerate) (5.9.4)\r\n",
      "Requirement already satisfied: torch>=1.4.0 in /home/ec2-user/anaconda3/envs/python3/lib/python3.10/site-packages (from accelerate) (1.11.0+cu113)\r\n",
      "Requirement already satisfied: numpy>=1.17 in /home/ec2-user/anaconda3/envs/python3/lib/python3.10/site-packages (from accelerate) (1.22.3)\r\n",
      "Requirement already satisfied: pyyaml in /home/ec2-user/anaconda3/envs/python3/lib/python3.10/site-packages (from accelerate) (5.4.1)\r\n",
      "Requirement already satisfied: packaging>=20.0 in /home/ec2-user/anaconda3/envs/python3/lib/python3.10/site-packages (from accelerate) (21.3)\r\n",
      "Requirement already satisfied: pyparsing!=3.0.5,>=2.0.2 in /home/ec2-user/anaconda3/envs/python3/lib/python3.10/site-packages (from packaging>=20.0->accelerate) (3.0.9)\r\n",
      "Requirement already satisfied: typing-extensions in /home/ec2-user/anaconda3/envs/python3/lib/python3.10/site-packages (from torch>=1.4.0->accelerate) (4.4.0)\r\n"
     ]
    }
   ],
   "source": [
    "!pip install accelerate"
   ]
  },
  {
   "cell_type": "code",
   "execution_count": 2,
   "id": "a740aef1",
   "metadata": {},
   "outputs": [],
   "source": [
    "local_rank = int(os.getenv('LOCAL_RANK', '0'))\n",
    "world_size = int(os.getenv('WORLD_SIZE', '1'))\n"
   ]
  },
  {
   "cell_type": "code",
   "execution_count": 9,
   "id": "c4be55cd",
   "metadata": {},
   "outputs": [
    {
     "data": {
      "application/vnd.jupyter.widget-view+json": {
       "model_id": "8ee679e020174b4aa0e0d7c03847b5a1",
       "version_major": 2,
       "version_minor": 0
      },
      "text/plain": [
       "Downloading:   0%|          | 0.00/836 [00:00<?, ?B/s]"
      ]
     },
     "metadata": {},
     "output_type": "display_data"
    },
    {
     "data": {
      "application/vnd.jupyter.widget-view+json": {
       "model_id": "4615565f18634e81837f39fb3aea9778",
       "version_major": 2,
       "version_minor": 0
      },
      "text/plain": [
       "Downloading:   0%|          | 0.00/11.3G [00:00<?, ?B/s]"
      ]
     },
     "metadata": {},
     "output_type": "display_data"
    },
    {
     "data": {
      "application/vnd.jupyter.widget-view+json": {
       "model_id": "4f1a47d83d234ec18c379952eb6a6069",
       "version_major": 2,
       "version_minor": 0
      },
      "text/plain": [
       "Downloading:   0%|          | 0.00/619 [00:00<?, ?B/s]"
      ]
     },
     "metadata": {},
     "output_type": "display_data"
    },
    {
     "data": {
      "application/vnd.jupyter.widget-view+json": {
       "model_id": "d7aa94fa52b84c498b21c44bd5e0eac2",
       "version_major": 2,
       "version_minor": 0
      },
      "text/plain": [
       "Downloading:   0%|          | 0.00/779k [00:00<?, ?B/s]"
      ]
     },
     "metadata": {},
     "output_type": "display_data"
    },
    {
     "data": {
      "application/vnd.jupyter.widget-view+json": {
       "model_id": "44f98655bcf34e3e99efc64b169f77f6",
       "version_major": 2,
       "version_minor": 0
      },
      "text/plain": [
       "Downloading:   0%|          | 0.00/446k [00:00<?, ?B/s]"
      ]
     },
     "metadata": {},
     "output_type": "display_data"
    },
    {
     "data": {
      "application/vnd.jupyter.widget-view+json": {
       "model_id": "e3c08b6644b144cf84fc965231cc280c",
       "version_major": 2,
       "version_minor": 0
      },
      "text/plain": [
       "Downloading:   0%|          | 0.00/1.31M [00:00<?, ?B/s]"
      ]
     },
     "metadata": {},
     "output_type": "display_data"
    },
    {
     "data": {
      "application/vnd.jupyter.widget-view+json": {
       "model_id": "d2d50db566ed447fb1cb21b110f5d633",
       "version_major": 2,
       "version_minor": 0
      },
      "text/plain": [
       "Downloading:   0%|          | 0.00/3.94k [00:00<?, ?B/s]"
      ]
     },
     "metadata": {},
     "output_type": "display_data"
    },
    {
     "data": {
      "application/vnd.jupyter.widget-view+json": {
       "model_id": "3d0d89ce0826442e903d9825ec40c37d",
       "version_major": 2,
       "version_minor": 0
      },
      "text/plain": [
       "Downloading:   0%|          | 0.00/357 [00:00<?, ?B/s]"
      ]
     },
     "metadata": {},
     "output_type": "display_data"
    }
   ],
   "source": [
    "model = AutoModelForCausalLM.from_pretrained(\n",
    "    \"EleutherAI/gpt-j-6B\", revision=\"float16\", torch_dtype=torch.float16, low_cpu_mem_usage=True\n",
    ")\n",
    "tokenizer = AutoTokenizer.from_pretrained(\"EleutherAI/gpt-j-6B\")\n"
   ]
  },
  {
   "cell_type": "code",
   "execution_count": 10,
   "id": "4b803692",
   "metadata": {},
   "outputs": [],
   "source": [
    "pipe = pipeline(\"text-generation\", model=model, tokenizer=tokenizer, device=0)\n"
   ]
  },
  {
   "cell_type": "code",
   "execution_count": 11,
   "id": "323c2d87",
   "metadata": {},
   "outputs": [
    {
     "name": "stderr",
     "output_type": "stream",
     "text": [
      "The attention mask and the pad token id were not set. As a consequence, you may observe unexpected behavior. Please pass your input's `attention_mask` to obtain reliable results.\n",
      "Setting `pad_token_id` to `eos_token_id`:50256 for open-end generation.\n"
     ]
    }
   ],
   "source": [
    "op = pipe(\n",
    "     \"\"\"[Text]: Helena Smith founded Core.ai 2 years ago. She is now the CEO and CTO of the company and is building a team of highly skilled developers in machine learning and natural language processing.\n",
    "        [Position]: CEO and CTO\n",
    "        ###\n",
    "        [Text]: Tech Robotics is a robot automation company specialized in AI driven robotization. Its Chief Technology Officer, Max Smith, says a new wave of improvements should be expected for next year.\n",
    "        [Position]: Chief Technology Officer\n",
    "        ###\n",
    "        [Text]: François is a Go developer. He mostly works as a freelancer but is open to any kind of job offering!\n",
    "        [Position]: Go developer\n",
    "        ###\n",
    "        [Text]: Chitti designs dresses, she is a fashion designer and a great singer\n",
    "        [Position]: fashion designer\n",
    "        ###\n",
    "        [Text]: Maxime is a bio-scientist at Auto Dataset, and he's been working there for 1 year.\n",
    "        [Position]: bio-scientist\n",
    "        ### \n",
    "        Text]: Jo is a Java Developer. He mostly works as a freelancer but is open to any kind of job offering!\n",
    "        [Position]:\"\"\",\n",
    "    do_sample=False,\n",
    "    max_sample =500,\n",
    "    max_length=350\n",
    ")"
   ]
  },
  {
   "cell_type": "code",
   "execution_count": null,
   "id": "ac9241c8",
   "metadata": {},
   "outputs": [],
   "source": []
  },
  {
   "cell_type": "code",
   "execution_count": 12,
   "id": "74ca3e4b",
   "metadata": {},
   "outputs": [
    {
     "name": "stdout",
     "output_type": "stream",
     "text": [
      "[Text]: Helena Smith founded Core.ai 2 years ago. She is now the CEO and CTO of the company and is building a team of highly skilled developers in machine learning and natural language processing.\n",
      "        [Position]: CEO and CTO\n",
      "        ###\n",
      "        [Text]: Tech Robotics is a robot automation company specialized in AI driven robotization. Its Chief Technology Officer, Max Smith, says a new wave of improvements should be expected for next year.\n",
      "        [Position]: Chief Technology Officer\n",
      "        ###\n",
      "        [Text]: François is a Go developer. He mostly works as a freelancer but is open to any kind of job offering!\n",
      "        [Position]: Go developer\n",
      "        ###\n",
      "        [Text]: Chitti designs dresses, she is a fashion designer and a great singer\n",
      "        [Position]: fashion designer\n",
      "        ###\n",
      "        [Text]: Maxime is a bio-scientist at Auto Dataset, and he's been working there for 1 year.\n",
      "        [Position]: bio-scientist\n",
      "        ### \n",
      "        Text]: Jo is a Java Developer. He mostly works as a freelancer but is open to any kind of job offering!\n",
      "        [Position]: Java Developer\n",
      "     \n"
     ]
    }
   ],
   "source": [
    "print(op[0]['generated_text'])"
   ]
  },
  {
   "cell_type": "code",
   "execution_count": 82,
   "id": "cec61c18",
   "metadata": {},
   "outputs": [
    {
     "name": "stderr",
     "output_type": "stream",
     "text": [
      "The attention mask and the pad token id were not set. As a consequence, you may observe unexpected behavior. Please pass your input's `attention_mask` to obtain reliable results.\n",
      "Setting `pad_token_id` to `eos_token_id`:50256 for open-end generation.\n"
     ]
    }
   ],
   "source": [
    "op = pipe(\"\"\"\n",
    "        [Text] : A 63-year-old woman with no known cardiac history presented with a sudden onset of dyspnea requiring intubation and ventilatory support out of hospital. \n",
    "        [Symptom] : woman\n",
    "        ###\n",
    "        [Text] : A 28-year-old previously healthy man presented with a 6-week history of palpitations. The symptoms occurred during rest, 2–3 times per week, lasted up to 30 minutes at a time and were associated with dyspnea.\n",
    "        [Symptom] : man\n",
    "        ###\n",
    "        [Text] : 23 year old young man with a history of smoking was admitted with chest pain\n",
    "        [Symptom] : man\n",
    "        ###\n",
    "        [Text] : 37 yo F with history of depression and suicidal attempt in the past presented with obtundation\n",
    "        [Symptom] : female\n",
    "        ###\n",
    "        [Text] : 72 year old female with ESLD [**12-27**] HCV cirrhosis admitted to MICU with AMS and sepsis\n",
    "        [Symptom] :  female\n",
    "        ###\n",
    "        [Text] :69-year-old patient with a history of T1, N0, squamous cell carcinoma of the left true vocal cord,\n",
    "        who presented with respiratory distress\n",
    "        [Symptom] : None \n",
    "        ###\n",
    "        [Text] : 72 year old man with cirrhosis admitted with fever\n",
    "        [Symptom] : \"\"\",\n",
    "    \n",
    "    do_sample=False,\n",
    "    max_sample =700,\n",
    "    max_length=450\n",
    ")"
   ]
  },
  {
   "cell_type": "code",
   "execution_count": 83,
   "id": "73e4e941",
   "metadata": {},
   "outputs": [
    {
     "name": "stdout",
     "output_type": "stream",
     "text": [
      "\n",
      "        [Text] : A 63-year-old woman with no known cardiac history presented with a sudden onset of dyspnea requiring intubation and ventilatory support out of hospital. \n",
      "        [Symptom] : woman\n",
      "        ###\n",
      "        [Text] : A 28-year-old previously healthy man presented with a 6-week history of palpitations. The symptoms occurred during rest, 2–3 times per week, lasted up to 30 minutes at a time and were associated with dyspnea.\n",
      "        [Symptom] : man\n",
      "        ###\n",
      "        [Text] : 23 year old young man with a history of smoking was admitted with chest pain\n",
      "        [Symptom] : man\n",
      "        ###\n",
      "        [Text] : 37 yo F with history of depression and suicidal attempt in the past presented with obtundation\n",
      "        [Symptom] : female\n",
      "        ###\n",
      "        [Text] : 72 year old female with ESLD [**12-27**] HCV cirrhosis admitted to MICU with AMS and sepsis\n",
      "        [Symptom] :  female\n",
      "        ###\n",
      "        [Text] :69-year-old patient with a history of T1, N0, squamous cell carcinoma of the left true vocal cord,\n",
      "        who presented with respiratory distress\n",
      "        [Symptom] : None \n",
      "        ###\n",
      "        [Text] : 72 year old man with cirrhosis admitted with fever\n",
      "        [Symptom] :  male\n",
      "  \n"
     ]
    }
   ],
   "source": [
    "print(op[0]['generated_text'])"
   ]
  },
  {
   "cell_type": "code",
   "execution_count": 84,
   "id": "3d9a476a",
   "metadata": {},
   "outputs": [
    {
     "name": "stdout",
     "output_type": "stream",
     "text": [
      "huggingface/tokenizers: The current process just got forked, after parallelism has already been used. Disabling parallelism to avoid deadlocks...\n",
      "To disable this warning, you can either:\n",
      "\t- Avoid using `tokenizers` before the fork if possible\n",
      "\t- Explicitly set the environment variable TOKENIZERS_PARALLELISM=(true | false)\n",
      "Sat Mar 11 18:57:07 2023       \r\n",
      "+-----------------------------------------------------------------------------+\r\n",
      "| NVIDIA-SMI 515.65.01    Driver Version: 515.65.01    CUDA Version: 11.7     |\r\n",
      "|-------------------------------+----------------------+----------------------+\r\n",
      "| GPU  Name        Persistence-M| Bus-Id        Disp.A | Volatile Uncorr. ECC |\r\n",
      "| Fan  Temp  Perf  Pwr:Usage/Cap|         Memory-Usage | GPU-Util  Compute M. |\r\n",
      "|                               |                      |               MIG M. |\r\n",
      "|===============================+======================+======================|\r\n",
      "|   0  Tesla T4            On   | 00000000:00:1E.0 Off |                    0 |\r\n",
      "| N/A   59C    P0    37W /  70W |  13723MiB / 15360MiB |      0%      Default |\r\n",
      "|                               |                      |                  N/A |\r\n",
      "+-------------------------------+----------------------+----------------------+\r\n",
      "                                                                               \r\n",
      "+-----------------------------------------------------------------------------+\r\n",
      "| Processes:                                                                  |\r\n",
      "|  GPU   GI   CI        PID   Type   Process name                  GPU Memory |\r\n",
      "|        ID   ID                                                   Usage      |\r\n",
      "|=============================================================================|\r\n",
      "|    0   N/A  N/A      9443      C   ...3/envs/python3/bin/python    13719MiB |\r\n",
      "+-----------------------------------------------------------------------------+\r\n"
     ]
    }
   ],
   "source": [
    "!nvidia-smi"
   ]
  },
  {
   "cell_type": "code",
   "execution_count": 108,
   "id": "9eff9598",
   "metadata": {},
   "outputs": [
    {
     "name": "stderr",
     "output_type": "stream",
     "text": [
      "The attention mask and the pad token id were not set. As a consequence, you may observe unexpected behavior. Please pass your input's `attention_mask` to obtain reliable results.\n",
      "Setting `pad_token_id` to `eos_token_id`:50256 for open-end generation.\n"
     ]
    }
   ],
   "source": [
    "op = pipe(\"\"\"\n",
    "        [Text] : A 63-year-old woman with no known cardiac history presented with a sudden onset of dyspnea requiring intubation and ventilatory support out of hospital. \n",
    "        [Age] : 63\n",
    "        [History] : no known cardiac history\n",
    "        ###\n",
    "        [Text] : A 28-year-old previously healthy man presented with a 6-week history of palpitations. The symptoms occurred during rest, 2–3 times per week, lasted up to 30 minutes at a time and were associated with dyspnea.\n",
    "        [Age] : 28\n",
    "        [History] : previously healthy \n",
    "        ###\n",
    "        [Text] : 23 year old young man with a history of smoking was admitted with chest pain.\n",
    "        [Age] : 23\n",
    "        [History] : history of smoking\n",
    "        ###\n",
    "        [Text] : 37 yo F with history of depression and suicidal attempt in the past presented with obtundation\n",
    "        [Age] : 37\n",
    "        [History] : history of depression and suicidal attempt\n",
    "        ###\n",
    "        [Text] : 72 year old female with ESLD [**12-27**] HCV cirrhosis admitted to MICU with AMS and sepsis\n",
    "        [Age] : 72\n",
    "        [History] :  HCV cirrhosis\n",
    "        ###\n",
    "        [Text] :69-year-old patient with a history of T1, N0, squamous cell carcinoma of the left true vocal cord,\n",
    "        who presented with respiratory distress\n",
    "        [Age] : 69\n",
    "        [History] : history of T1, N0, squamous cell carcinoma \n",
    "        ###\n",
    "        [Text] : 62 yo F with h/o, HTN, hypertensive heart disease, who presents with two days of fever, nausea,\n",
    "        vomiting and mental status changes.\"\"\",\n",
    "    \n",
    "    do_sample=False,\n",
    "    max_sample =700,\n",
    "    max_length= 600\n",
    ")"
   ]
  },
  {
   "cell_type": "code",
   "execution_count": 109,
   "id": "b8a1d899",
   "metadata": {},
   "outputs": [
    {
     "name": "stdout",
     "output_type": "stream",
     "text": [
      "\n",
      "        [Text] : A 63-year-old woman with no known cardiac history presented with a sudden onset of dyspnea requiring intubation and ventilatory support out of hospital. \n",
      "        [Age] : 63\n",
      "        [History] : no known cardiac history\n",
      "        ###\n",
      "        [Text] : A 28-year-old previously healthy man presented with a 6-week history of palpitations. The symptoms occurred during rest, 2–3 times per week, lasted up to 30 minutes at a time and were associated with dyspnea.\n",
      "        [Age] : 28\n",
      "        [History] : previously healthy \n",
      "        ###\n",
      "        [Text] : 23 year old young man with a history of smoking was admitted with chest pain.\n",
      "        [Age] : 23\n",
      "        [History] : history of smoking\n",
      "        ###\n",
      "        [Text] : 37 yo F with history of depression and suicidal attempt in the past presented with obtundation\n",
      "        [Age] : 37\n",
      "        [History] : history of depression and suicidal attempt\n",
      "        ###\n",
      "        [Text] : 72 year old female with ESLD [**12-27**] HCV cirrhosis admitted to MICU with AMS and sepsis\n",
      "        [Age] : 72\n",
      "        [History] :  HCV cirrhosis\n",
      "        ###\n",
      "        [Text] :69-year-old patient with a history of T1, N0, squamous cell carcinoma of the left true vocal cord,\n",
      "        who presented with respiratory distress\n",
      "        [Age] : 69\n",
      "        [History] : history of T1, N0, squamous cell carcinoma \n",
      "        ###\n",
      "        [Text] : 62 yo F with h/o, HTN, hypertensive heart disease, who presents with two days of fever, nausea,\n",
      "        vomiting and mental status changes.\n",
      "        [Age] : 62\n",
      "        [History] : h/o, HTN, hypertensive heart disease\n",
      "        ###\n"
     ]
    }
   ],
   "source": [
    "print(op[0]['generated_text'])"
   ]
  },
  {
   "cell_type": "code",
   "execution_count": null,
   "id": "2278181f",
   "metadata": {},
   "outputs": [],
   "source": []
  },
  {
   "cell_type": "code",
   "execution_count": null,
   "id": "0d6d0ff2",
   "metadata": {},
   "outputs": [],
   "source": []
  },
  {
   "cell_type": "code",
   "execution_count": null,
   "id": "f974741b",
   "metadata": {},
   "outputs": [],
   "source": []
  },
  {
   "cell_type": "code",
   "execution_count": null,
   "id": "e7ae787c",
   "metadata": {},
   "outputs": [],
   "source": []
  },
  {
   "cell_type": "code",
   "execution_count": null,
   "id": "15c6e20b",
   "metadata": {},
   "outputs": [],
   "source": []
  },
  {
   "cell_type": "code",
   "execution_count": null,
   "id": "a430fff2",
   "metadata": {},
   "outputs": [],
   "source": []
  },
  {
   "cell_type": "code",
   "execution_count": null,
   "id": "ff9f3486",
   "metadata": {},
   "outputs": [],
   "source": []
  }
 ],
 "metadata": {
  "kernelspec": {
   "display_name": "Python 3 (ipykernel)",
   "language": "python",
   "name": "python3"
  },
  "language_info": {
   "codemirror_mode": {
    "name": "ipython",
    "version": 3
   },
   "file_extension": ".py",
   "mimetype": "text/x-python",
   "name": "python",
   "nbconvert_exporter": "python",
   "pygments_lexer": "ipython3",
   "version": "3.10.8"
  }
 },
 "nbformat": 4,
 "nbformat_minor": 5
}
