{
 "cells": [
  {
   "cell_type": "markdown",
   "id": "72fb27b8",
   "metadata": {},
   "source": [
    "!pip install xformers #xformers==0.0.20\n",
    "!pip install accelerate #accelerate==0.21.0\n",
    "!pip install transformers #transformers==4.31.0\n",
    "#ml.g5.4xlarge"
   ]
  },
  {
   "cell_type": "code",
   "execution_count": 1,
   "id": "d4d094aa",
   "metadata": {},
   "outputs": [],
   "source": [
    "from transformers import AutoTokenizer\n",
    "import transformers\n",
    "import torch\n"
   ]
  },
  {
   "cell_type": "code",
   "execution_count": 2,
   "id": "b0330e6c",
   "metadata": {},
   "outputs": [
    {
     "data": {
      "application/vnd.jupyter.widget-view+json": {
       "model_id": "5d441852c6834069951a6e00a53c201a",
       "version_major": 2,
       "version_minor": 0
      },
      "text/plain": [
       "Loading checkpoint shards:   0%|          | 0/2 [00:00<?, ?it/s]"
      ]
     },
     "metadata": {},
     "output_type": "display_data"
    }
   ],
   "source": [
    "model = \"hf_llama_model/\"\n",
    "\n",
    "tokenizer = AutoTokenizer.from_pretrained(model)\n",
    "pipeline = transformers.pipeline(\n",
    "    \"text-generation\",\n",
    "    model=model,\n",
    "    torch_dtype=torch.float16,\n",
    "    device_map=\"auto\"\n",
    ")"
   ]
  },
  {
   "cell_type": "code",
   "execution_count": null,
   "id": "766ca397",
   "metadata": {},
   "outputs": [],
   "source": [
    "## Just having some fun with this clm "
   ]
  },
  {
   "cell_type": "code",
   "execution_count": 26,
   "id": "8372e84a",
   "metadata": {},
   "outputs": [
    {
     "name": "stdout",
     "output_type": "stream",
     "text": [
      "Result: I liked the 'the Good Doctor'. The series is about 3 years old now, but I've just started watching it. So, I don't know a lot about it yet.\n",
      "I'm still watching 'The Good Doctor' now. I like it so far, though I don't know much about it yet, either.\n",
      "I've gotten into some new shows recently.\n",
      "The Orville- It's basically Star Trek with humor and a lot of fun.\n",
      "The Expanse- A space epic based off a sci-fi novel series. I highly reccommend it.\n",
      "The Magicians- It's basically Harry Potter for adults. It's dark and twisted and very funny.\n",
      "The Punisher- I'll admit I'm not a big Marvel fan, especially with how bad Netflix has been with Daredevil and Luke Cage. This show is fant\n"
     ]
    }
   ],
   "source": [
    "sequences = pipeline(\n",
    "    \"\"\"I liked the 'the Good Doctor'. The series is about \"\"\",\n",
    "    do_sample=True,\n",
    "    top_k=10,\n",
    "    num_return_sequences=1,\n",
    "    eos_token_id=tokenizer.eos_token_id,\n",
    "    max_length=200,\n",
    ")\n",
    "\n",
    "for seq in sequences:\n",
    "    print(f\"Result: {seq['generated_text']}\")"
   ]
  },
  {
   "cell_type": "code",
   "execution_count": 58,
   "id": "bbd3ad49",
   "metadata": {},
   "outputs": [
    {
     "name": "stdout",
     "output_type": "stream",
     "text": [
      "Result: \n",
      "    Percy Jackson books\n",
      "    \n",
      "   \n",
      "### 1. The Lightning Thief\n",
      "\n",
      "> \n",
      "\n",
      "\n",
      "### 2. The Sea of Monsters\n",
      "\n",
      "> \n",
      "\n",
      "\n",
      "### 4. The Titan's Curse\n",
      "\n",
      "> \n",
      "\n",
      "\n",
      "### 5. The Battle of the Labyrinth\n",
      "\n",
      ">\n"
     ]
    }
   ],
   "source": [
    "sequences = pipeline(\n",
    "    \"\"\"\n",
    "    Percy Jackson books\n",
    "    \"\"\"\n",
    "    ,\n",
    "    do_sample=True,\n",
    "    top_k=10,\n",
    "    num_return_sequences=1,\n",
    "    eos_token_id=tokenizer.eos_token_id,\n",
    "    max_length=80,\n",
    ")\n",
    "\n",
    "for seq in sequences:\n",
    "    print(f\"Result: {seq['generated_text']}\")"
   ]
  },
  {
   "cell_type": "code",
   "execution_count": null,
   "id": "69cafd33",
   "metadata": {},
   "outputs": [],
   "source": []
  },
  {
   "cell_type": "code",
   "execution_count": null,
   "id": "d8ffcf40",
   "metadata": {},
   "outputs": [],
   "source": []
  },
  {
   "cell_type": "code",
   "execution_count": null,
   "id": "db88290d",
   "metadata": {},
   "outputs": [],
   "source": []
  },
  {
   "cell_type": "code",
   "execution_count": null,
   "id": "6fee124c",
   "metadata": {},
   "outputs": [],
   "source": []
  }
 ],
 "metadata": {
  "kernelspec": {
   "display_name": "conda_pytorch_p310",
   "language": "python",
   "name": "conda_pytorch_p310"
  },
  "language_info": {
   "codemirror_mode": {
    "name": "ipython",
    "version": 3
   },
   "file_extension": ".py",
   "mimetype": "text/x-python",
   "name": "python",
   "nbconvert_exporter": "python",
   "pygments_lexer": "ipython3",
   "version": "3.10.10"
  }
 },
 "nbformat": 4,
 "nbformat_minor": 5
}
